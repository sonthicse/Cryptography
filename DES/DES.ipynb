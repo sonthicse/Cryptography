{
 "cells": [
  {
   "cell_type": "markdown",
   "id": "a0096f15",
   "metadata": {},
   "source": [
    "# TABLES"
   ]
  },
  {
   "cell_type": "code",
   "execution_count": 17,
   "id": "7d36544f",
   "metadata": {},
   "outputs": [],
   "source": [
    "IP = [58, 50, 42, 34, 26, 18, 10, 2,\n",
    "      60, 52, 44, 36, 28, 20, 12, 4,\n",
    "      62, 54, 46, 38, 30, 22, 14, 6,\n",
    "      64, 56, 48, 40, 32, 24, 16, 8,\n",
    "      57, 49, 41, 33, 25, 17, 9, 1,\n",
    "      59, 51, 43, 35, 27, 19, 11, 3,\n",
    "      61, 53, 45, 37, 29, 21, 13, 5,\n",
    "      63, 55, 47, 39, 31, 23, 15, 7]\n",
    "\n",
    "FP = [40, 8, 48, 16, 56, 24, 64, 32,\n",
    "      39, 7, 47, 15, 55, 23, 63, 31,\n",
    "      38, 6, 46, 14, 54, 22, 62, 30,\n",
    "      37, 5, 45, 13, 53, 21, 61, 29,\n",
    "      36, 4, 44, 12, 52, 20, 60, 28,\n",
    "      35, 3, 43, 11, 51, 19, 59, 27,\n",
    "      34, 2, 42, 10, 50, 18, 58, 26,\n",
    "      33, 1, 41, 9, 49, 17, 57, 25]\n",
    "\n",
    "E = [32, 1, 2, 3, 4, 5,\n",
    "     4, 5, 6, 7, 8, 9,\n",
    "     8, 9, 10, 11, 12, 13,\n",
    "     12, 13, 14, 15, 16, 17,\n",
    "     16, 17, 18, 19, 20, 21,\n",
    "     20, 21, 22, 23, 24, 25,\n",
    "     24, 25, 26, 27, 28, 29,\n",
    "     28, 29, 30, 31, 32, 1]\n",
    "\n",
    "P = [16, 7, 20, 21, 29, 12, 28, 17,\n",
    "     1, 15, 23, 26, 5, 18, 31, 10,\n",
    "     2, 8, 24, 14, 32, 27, 3, 9,\n",
    "     19, 13, 30, 6, 22, 11, 4, 25]\n",
    "\n",
    "PC_1 = [57, 49, 41, 33, 25, 17, 9,\n",
    "        1, 58, 50, 42, 34, 26, 18,\n",
    "        10, 2, 59, 51, 43, 35, 27,\n",
    "        19, 11, 3, 60, 52, 44, 36,\n",
    "        63, 55, 47, 39, 31, 23, 15,\n",
    "        7, 62, 54, 46, 38, 30, 22,\n",
    "        14, 6, 61, 53, 45, 37, 29,\n",
    "        21, 13, 5, 28, 20, 12, 4]\n",
    "\n",
    "PC_2 = [14, 17, 11, 24, 1, 5,\n",
    "        3, 28, 15, 6, 21, 10,\n",
    "        23, 19, 12, 4, 26, 8,\n",
    "        16, 7, 27, 20, 13, 2,\n",
    "        41, 52, 31, 37, 47, 55,\n",
    "        30, 40, 51, 45, 33, 48,\n",
    "        44, 49, 39, 56, 34, 53,\n",
    "        46, 42, 50, 36, 29, 32]\n",
    "\n",
    "shifts = [1, 1, 2, 2, 2, 2, 2, 2, 1, 2, 2, 2, 2, 2, 2, 1]\n",
    "\n",
    "S = [\n",
    "    [[14, 4, 13, 1, 2, 15, 11, 8, 3, 10, 6, 12, 5, 9, 0, 7],\n",
    "     [0, 15, 7, 4, 14, 2, 13, 1, 10, 6, 12, 11, 9, 5, 3, 8],\n",
    "     [4, 1, 14, 8, 13, 6, 2, 11, 15, 12, 9, 7, 3, 10, 5, 0],\n",
    "     [15, 12, 8, 2, 4, 9, 1, 7, 5, 11, 3, 14, 10, 0, 6, 13]],\n",
    "\n",
    "    [[15, 1, 8, 14, 6, 11, 3, 4, 9, 7, 2, 13, 12, 0, 5, 10],\n",
    "     [3, 13, 4, 7, 15, 2, 8, 14, 12, 0, 1, 10, 6, 9, 11, 5],\n",
    "     [0, 14, 7, 11, 10, 4, 13, 1, 5, 8, 12, 6, 9, 3, 2, 15],\n",
    "     [13, 8, 10, 1, 3, 15, 4, 2, 11, 6, 7, 12, 0, 5, 14, 9]],\n",
    "\n",
    "    [[10, 0, 9, 14, 6, 3, 15, 5, 1, 13, 12, 7, 11, 4, 2, 8],\n",
    "     [13, 7, 0, 9, 3, 4, 6, 10, 2, 8, 5, 14, 12, 11, 15, 1],\n",
    "     [13, 6, 4, 9, 8, 15, 3, 0, 11, 1, 2, 12, 5, 10, 14, 7],\n",
    "     [1, 10, 13, 0, 6, 9, 8, 7, 4, 15, 14, 3, 11, 5, 2, 12]],\n",
    "\n",
    "    [[7, 13, 14, 3, 0, 6, 9, 10, 1, 2, 8, 5, 11, 12, 4, 15],\n",
    "     [13, 8, 11, 5, 6, 15, 0, 3, 4, 7, 2, 12, 1, 10, 14, 9],\n",
    "     [10, 6, 9, 0, 12, 11, 7, 13, 15, 1, 3, 14, 5, 2, 8, 4],\n",
    "     [3, 15, 0, 6, 10, 1, 13, 8, 9, 4, 5, 11, 12, 7, 2, 14]],\n",
    "\n",
    "    [[2, 12, 4, 1, 7, 10, 11, 6, 8, 5, 3, 15, 13, 0, 14, 9],\n",
    "     [14, 11, 2, 12, 4, 7, 13, 1, 5, 0, 15, 10, 3, 9, 8, 6],\n",
    "     [4, 2, 1, 11, 10, 13, 7, 8, 15, 9, 12, 5, 6, 3, 0, 14],\n",
    "     [11, 8, 12, 7, 1, 14, 2, 13, 6, 15, 0, 9, 10, 4, 5, 3]],\n",
    "\n",
    "    [[12, 1, 10, 15, 9, 2, 6, 8, 0, 13, 3, 4, 14, 7, 5, 11],\n",
    "     [10, 15, 4, 2, 7, 12, 9, 5, 6, 1, 13, 14, 0, 11, 3, 8],\n",
    "     [9, 14, 15, 5, 2, 8, 12, 3, 7, 0, 4, 10, 1, 13, 11, 6],\n",
    "     [4, 3, 2, 12, 9, 5, 15, 10, 11, 14, 1, 7, 6, 0, 8, 13]],\n",
    "\n",
    "    [[4, 11, 2, 14, 15, 0, 8, 13, 3, 12, 9, 7, 5, 10, 6, 1],\n",
    "     [13, 0, 11, 7, 4, 9, 1, 10, 14, 3, 5, 12, 2, 15, 8, 6],\n",
    "     [1, 4, 11, 13, 12, 3, 7, 14, 10, 15, 6, 8, 0, 5, 9, 2],\n",
    "     [6, 11, 13, 8, 1, 4, 10, 7, 9, 5, 0, 15, 14, 2, 3, 12]],\n",
    "\n",
    "    [[13, 2, 8, 4, 6, 15, 11, 1, 10, 9, 3, 14, 5, 0, 12, 7],\n",
    "     [1, 15, 13, 8, 10, 3, 7, 4, 12, 5, 6, 11, 0, 14, 9, 2],\n",
    "     [7, 11, 4, 1, 9, 12, 14, 2, 0, 6, 10, 13, 15, 3, 5, 8],\n",
    "     [2, 1, 14, 7, 4, 10, 8, 13, 15, 12, 9, 0, 3, 5, 6, 11]]\n",
    "    ]"
   ]
  },
  {
   "cell_type": "markdown",
   "id": "a59cb9d6",
   "metadata": {},
   "source": [
    "# FUNCTIONS"
   ]
  },
  {
   "cell_type": "markdown",
   "id": "c215912f",
   "metadata": {},
   "source": [
    "## PERMUTATION"
   ]
  },
  {
   "cell_type": "code",
   "execution_count": 18,
   "id": "f4a52a3f",
   "metadata": {},
   "outputs": [],
   "source": [
    "def permute(block: int, table: list, size: int) -> int:\n",
    "    permuted = 0\n",
    "\n",
    "    for i in range(len(table)):\n",
    "        bit = (block >> (size - table[i])) & 1\n",
    "        permuted = (permuted << 1) | bit\n",
    "\n",
    "    return permuted"
   ]
  },
  {
   "cell_type": "markdown",
   "id": "69409a69",
   "metadata": {},
   "source": [
    "## P-BOX"
   ]
  },
  {
   "cell_type": "code",
   "execution_count": 19,
   "id": "ebcd0198",
   "metadata": {},
   "outputs": [],
   "source": [
    "def P_box(block: int, table: list, size: int) -> int:\n",
    "    permuted = permute(block, table, size)\n",
    "\n",
    "    return permuted"
   ]
  },
  {
   "cell_type": "markdown",
   "id": "80fd7915",
   "metadata": {},
   "source": [
    "## E-BOX"
   ]
  },
  {
   "cell_type": "code",
   "execution_count": 20,
   "id": "47d8f387",
   "metadata": {},
   "outputs": [],
   "source": [
    "def E_box(block: int, table: list, size: int) -> int:\n",
    "    expanded = permute(block, table, size)\n",
    "\n",
    "    return expanded"
   ]
  },
  {
   "cell_type": "markdown",
   "id": "57ff3824",
   "metadata": {},
   "source": [
    "## S-BOX"
   ]
  },
  {
   "cell_type": "code",
   "execution_count": 21,
   "id": "97e9d739",
   "metadata": {},
   "outputs": [],
   "source": [
    "def S_box(block: int, table: list) -> int:\n",
    "    output = 0\n",
    "\n",
    "    for i in range(8):\n",
    "        six_bits = (block >> (42 - 6 * i)) & 0b111111\n",
    "\n",
    "        row = ((six_bits & 0b100000) >> 4) | (six_bits & 0b000001)\n",
    "        col = (six_bits >> 1) & 0b1111\n",
    "\n",
    "        s_value = table[i][row][col]\n",
    "        output = (output << 4) | s_value\n",
    "\n",
    "    return output"
   ]
  },
  {
   "cell_type": "markdown",
   "id": "5519df87",
   "metadata": {},
   "source": [
    "## LEFT CIRCULAR SHIFT"
   ]
  },
  {
   "cell_type": "code",
   "execution_count": 22,
   "id": "e4352ab9",
   "metadata": {},
   "outputs": [],
   "source": [
    "def left_circular_shift(block: int, shifts: int) -> int:\n",
    "    shifted = ((block << shifts) & 0xFFFFFFF) | (block >> (28 - shifts))\n",
    "    return shifted"
   ]
  },
  {
   "cell_type": "markdown",
   "id": "f91fdd96",
   "metadata": {},
   "source": [
    "## KEY SCHEDUDE"
   ]
  },
  {
   "cell_type": "code",
   "execution_count": 23,
   "id": "49845257",
   "metadata": {},
   "outputs": [],
   "source": [
    "def key_schedule(key: bytes) -> list:\n",
    "    subkey = P_box(int.from_bytes(key, byteorder='big'), PC_1, 64)\n",
    "\n",
    "    left_key_half = (subkey >> 28) & 0xFFFFFFF\n",
    "    right_key_half = subkey & 0xFFFFFFF\n",
    "\n",
    "    round_keys = []\n",
    "\n",
    "    for round in range(16):\n",
    "        left_key_half = left_circular_shift(left_key_half, shifts[round])\n",
    "        right_key_half = left_circular_shift(right_key_half, shifts[round])\n",
    "\n",
    "        round_key = (left_key_half << 28) | right_key_half\n",
    "\n",
    "        round_key = P_box(round_key, PC_2, 56)\n",
    "\n",
    "        round_keys.append(round_key)\n",
    "\n",
    "    return round_keys"
   ]
  },
  {
   "cell_type": "markdown",
   "id": "427c73d7",
   "metadata": {},
   "source": [
    "## MANGLE FUNCTION"
   ]
  },
  {
   "cell_type": "code",
   "execution_count": 24,
   "id": "aa4e9c1f",
   "metadata": {},
   "outputs": [],
   "source": [
    "def mangler_function(left_half: int, right_half: int, round_key: int) -> list:\n",
    "    expanded_right_half = E_box(right_half, E, 32)\n",
    "\n",
    "    xor_right_half = expanded_right_half ^ round_key\n",
    "\n",
    "    substituted_right_half = S_box(xor_right_half, S)\n",
    "\n",
    "    permuted_right_half = P_box(substituted_right_half, P, 32)\n",
    "\n",
    "    new_right_half = left_half ^ permuted_right_half\n",
    "\n",
    "    return [right_half, new_right_half]"
   ]
  },
  {
   "cell_type": "markdown",
   "id": "e1411f09",
   "metadata": {},
   "source": [
    "## ROUND FUNCTION"
   ]
  },
  {
   "cell_type": "code",
   "execution_count": 25,
   "id": "47de3f8c",
   "metadata": {},
   "outputs": [],
   "source": [
    "def round_function(left_half: int, right_half: int, round_key: int) -> list:\n",
    "    left_half, right_half = mangler_function(left_half, right_half, round_key)\n",
    "\n",
    "    return [left_half, right_half]"
   ]
  },
  {
   "cell_type": "markdown",
   "id": "6b17dadb",
   "metadata": {},
   "source": [
    "## ENCRYPT"
   ]
  },
  {
   "cell_type": "code",
   "execution_count": 26,
   "id": "84859f59",
   "metadata": {},
   "outputs": [],
   "source": [
    "def DES_encrypt(plaintext: bytes, key: bytes) -> bytes:\n",
    "    padding_length = 8 - (len(plaintext) % 8)\n",
    "    plaintext = plaintext + bytes([padding_length] * padding_length)\n",
    "\n",
    "    round_keys = key_schedule(key)\n",
    "    ciphertext = bytearray()\n",
    "\n",
    "    for i in range(0, len(plaintext), 8):\n",
    "        block = plaintext[i: i + 8]\n",
    "        block = int.from_bytes(block, byteorder='big')\n",
    "\n",
    "        block = P_box(block, IP, 64)\n",
    "\n",
    "        left_half = (block >> 32) & 0xFFFFFFFF\n",
    "        right_half = block & 0xFFFFFFFF\n",
    "\n",
    "        for round in range(16):\n",
    "            left_half, right_half = round_function(left_half, right_half, round_keys[round])\n",
    "\n",
    "        block = (right_half << 32) | left_half\n",
    "\n",
    "        block = P_box(block, FP, 64)\n",
    "\n",
    "        ciphertext = ciphertext + block.to_bytes(8, byteorder='big')\n",
    "\n",
    "    return bytes(ciphertext)"
   ]
  },
  {
   "cell_type": "markdown",
   "id": "7f55b9b0",
   "metadata": {},
   "source": [
    "## DECRYPT"
   ]
  },
  {
   "cell_type": "code",
   "execution_count": 27,
   "id": "6a3c9712",
   "metadata": {},
   "outputs": [],
   "source": [
    "def DES_decrypt(ciphertext: bytes, key: bytes) -> bytes:\n",
    "    plaintext = bytearray()\n",
    "\n",
    "    round_keys = key_schedule(key)\n",
    "    \n",
    "    for i in range(0, len(ciphertext), 8):\n",
    "        block = ciphertext[i: i + 8]\n",
    "\n",
    "        block = int.from_bytes(block, byteorder='big')\n",
    "\n",
    "        block = P_box(block, IP, 64)\n",
    "\n",
    "        left_half = (block >> 32) & 0xFFFFFFFF\n",
    "        right_half = block & 0xFFFFFFFF\n",
    "\n",
    "        for round in range(15, -1, -1):\n",
    "            left_half, right_half = round_function(left_half, right_half, round_keys[round])\n",
    "\n",
    "        block = (right_half << 32) | left_half\n",
    "\n",
    "        block = P_box(block, FP, 64)\n",
    "\n",
    "        plaintext = plaintext + block.to_bytes(8, byteorder='big')\n",
    "\n",
    "    padding_length = plaintext[-1]\n",
    "    plaintext = plaintext[0: len(plaintext) - padding_length]\n",
    "\n",
    "    return bytes(plaintext)"
   ]
  },
  {
   "cell_type": "markdown",
   "id": "cf95dba6",
   "metadata": {},
   "source": [
    "# DEMO WITH FILE"
   ]
  },
  {
   "cell_type": "code",
   "execution_count": 28,
   "id": "320c711c",
   "metadata": {},
   "outputs": [
    {
     "name": "stdout",
     "output_type": "stream",
     "text": [
      "Plaintext       :  b'HELLO WORLD'\n",
      "Length Plaintext:  11\n",
      "Plaintext (hex) :  48454c4c4f20574f524c44\n"
     ]
    }
   ],
   "source": [
    "with open(\"plaintext.txt\", \"rb\") as file:\n",
    "    plaintext = file.read()\n",
    "    \n",
    "print(\"Plaintext       : \", plaintext)\n",
    "print(\"Length Plaintext: \", len(plaintext))\n",
    "print(\"Plaintext (hex) : \", plaintext.hex())"
   ]
  },
  {
   "cell_type": "code",
   "execution_count": 29,
   "id": "ec959f0b",
   "metadata": {},
   "outputs": [
    {
     "name": "stdout",
     "output_type": "stream",
     "text": [
      "Key       :  b'abcdefgh'\n",
      "Length Key:  8\n",
      "Key (hex) :  6162636465666768\n"
     ]
    }
   ],
   "source": [
    "with open(\"key.txt\", \"rb\") as file:\n",
    "    key = file.read()\n",
    "\n",
    "print(\"Key       : \", key)\n",
    "print(\"Length Key: \", len(key))\n",
    "print(\"Key (hex) : \", key.hex())"
   ]
  },
  {
   "cell_type": "code",
   "execution_count": 30,
   "id": "ea7e5ba3",
   "metadata": {},
   "outputs": [
    {
     "name": "stdout",
     "output_type": "stream",
     "text": [
      "Ciphertext       :  b'e\\x94SG\\x8b\\x8b*>\\x16g\\xf4\\x90\\x93\\xac\\xe7\\xae'\n",
      "Length Ciphertext: 16\n",
      "Ciphertext (hex) :  659453478b8b2a3e1667f49093ace7ae\n"
     ]
    }
   ],
   "source": [
    "ciphertext = DES_encrypt(plaintext, key)\n",
    "\n",
    "with open(\"ciphertext.txt\", \"wb\") as file:\n",
    "    file.write(ciphertext)\n",
    "\n",
    "\n",
    "print(\"Ciphertext       : \", ciphertext)\n",
    "print(\"Length Ciphertext:\", len(ciphertext))\n",
    "print(\"Ciphertext (hex) : \", ciphertext.hex())"
   ]
  },
  {
   "cell_type": "code",
   "execution_count": 31,
   "id": "acd77783",
   "metadata": {},
   "outputs": [
    {
     "name": "stdout",
     "output_type": "stream",
     "text": [
      "Decrypted Plaintext       :  b'HELLO WORLD'\n",
      "Length Decrypted Plaintext:  11\n",
      "Decrypted Plaintext (hex) :  48454c4c4f20574f524c44\n"
     ]
    }
   ],
   "source": [
    "with open(\"ciphertext.txt\", \"rb\") as file:\n",
    "    ciphertext = file.read()\n",
    "\n",
    "decrypted_plaintext = DES_decrypt(ciphertext, key)\n",
    "\n",
    "with open(\"decrypted_plaintext.txt\", \"wb\") as file:\n",
    "    file.write(decrypted_plaintext)\n",
    "\n",
    "print(\"Decrypted Plaintext       : \", decrypted_plaintext)\n",
    "print(\"Length Decrypted Plaintext: \", len(decrypted_plaintext))\n",
    "print(\"Decrypted Plaintext (hex) : \", decrypted_plaintext.hex())"
   ]
  }
 ],
 "metadata": {
  "kernelspec": {
   "display_name": ".venv",
   "language": "python",
   "name": "python3"
  },
  "language_info": {
   "codemirror_mode": {
    "name": "ipython",
    "version": 3
   },
   "file_extension": ".py",
   "mimetype": "text/x-python",
   "name": "python",
   "nbconvert_exporter": "python",
   "pygments_lexer": "ipython3",
   "version": "3.13.7"
  }
 },
 "nbformat": 4,
 "nbformat_minor": 5
}
