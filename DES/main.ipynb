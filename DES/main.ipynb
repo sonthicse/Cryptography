{
 "cells": [
  {
   "cell_type": "code",
   "execution_count": null,
   "id": "2f895749",
   "metadata": {},
   "outputs": [],
   "source": [
    "import DES"
   ]
  },
  {
   "cell_type": "code",
   "execution_count": 2,
   "id": "13fcbd9f",
   "metadata": {},
   "outputs": [
    {
     "name": "stdout",
     "output_type": "stream",
     "text": [
      "Key:  b'abcdefgh'\n",
      "Key (hex):  6162636465666768\n",
      "Plaintext:  b'HELLO WOLRD'\n",
      "Plaintext (hex):  48454c4c4f20574f4c5244\n"
     ]
    }
   ],
   "source": [
    "key = b'abcdefgh'\n",
    "plaintext = b'HELLO WOLRD'\n",
    "\n",
    "print(\"Key: \", key)\n",
    "print(\"Key (hex): \", key.hex())\n",
    "print(\"Plaintext: \", plaintext)\n",
    "print(\"Plaintext (hex): \", plaintext.hex())"
   ]
  },
  {
   "cell_type": "code",
   "execution_count": 3,
   "id": "47c84459",
   "metadata": {},
   "outputs": [
    {
     "name": "stdout",
     "output_type": "stream",
     "text": [
      "Ciphertext:  b'e\\x94SG\\x8b\\x8b*>\\x8e\\x99\\xe0\\xf5\\xd5\\x8dD\\\\'\n",
      "Ciphertext (hex):  659453478b8b2a3e8e99e0f5d58d445c\n"
     ]
    }
   ],
   "source": [
    "ciphertext = DES.DES_encrypt(plaintext, key)\n",
    "print(\"Ciphertext: \", ciphertext)\n",
    "print(\"Ciphertext (hex): \", ciphertext.hex())"
   ]
  },
  {
   "cell_type": "code",
   "execution_count": 4,
   "id": "a463ec26",
   "metadata": {},
   "outputs": [
    {
     "name": "stdout",
     "output_type": "stream",
     "text": [
      "Decrypted:  b'HELLO WOLRD'\n",
      "Decrypted (hex):  48454c4c4f20574f4c5244\n"
     ]
    }
   ],
   "source": [
    "decrypt_plaintext = DES.DES_decrypt(ciphertext, key)\n",
    "print(\"Decrypted: \", decrypt_plaintext)\n",
    "print(\"Decrypted (hex): \", decrypt_plaintext.hex())"
   ]
  },
  {
   "cell_type": "markdown",
   "id": "5a9faab6",
   "metadata": {},
   "source": [
    "# DEMO WITH FILE"
   ]
  },
  {
   "cell_type": "code",
   "execution_count": 6,
   "id": "78e82c66",
   "metadata": {},
   "outputs": [
    {
     "name": "stdout",
     "output_type": "stream",
     "text": [
      "Plaintext       :  b'HELLO WORLD'\n",
      "Length Plaintext:  11\n",
      "Plaintext (hex) :  48454c4c4f20574f524c44\n"
     ]
    }
   ],
   "source": [
    "with open(\"plaintext.txt\", \"rb\") as file:\n",
    "    plaintext = file.read()\n",
    "    \n",
    "print(\"Plaintext       : \", plaintext)\n",
    "print(\"Length Plaintext: \", len(plaintext))\n",
    "print(\"Plaintext (hex) : \", plaintext.hex())"
   ]
  },
  {
   "cell_type": "code",
   "execution_count": null,
   "id": "f23d7259",
   "metadata": {},
   "outputs": [
    {
     "name": "stdout",
     "output_type": "stream",
     "text": [
      "Key:  b'abcdefgh'\n",
      "Key (hex):  6162636465666768\n"
     ]
    }
   ],
   "source": [
    "with open(\"key.txt\", \"rb\") as file:\n",
    "    key = file.read()\n",
    "\n",
    "print(\"Key       : \", key)\n",
    "print(\"Length Key: \", len(key))\n",
    "print(\"Key (hex) : \", key.hex())"
   ]
  },
  {
   "cell_type": "code",
   "execution_count": null,
   "id": "e2ecf724",
   "metadata": {},
   "outputs": [
    {
     "name": "stdout",
     "output_type": "stream",
     "text": [
      "Ciphertext       :  b'e\\x94SG\\x8b\\x8b*>\\x16g\\xf4\\x90\\x93\\xac\\xe7\\xae'\n",
      "Length Ciphertext: 16\n",
      "Ciphertext (hex) :  659453478b8b2a3e1667f49093ace7ae\n"
     ]
    }
   ],
   "source": [
    "ciphertext = DES.DES_encrypt(plaintext, key)\n",
    "\n",
    "with open(\"ciphertext.txt\", \"wb\") as file:\n",
    "    file.write(ciphertext)\n",
    "\n",
    "\n",
    "print(\"Ciphertext       : \", ciphertext)\n",
    "print(\"Length Ciphertext:\", len(ciphertext))\n",
    "print(\"Ciphertext (hex) : \", ciphertext.hex())"
   ]
  },
  {
   "cell_type": "code",
   "execution_count": null,
   "id": "37e1e848",
   "metadata": {},
   "outputs": [],
   "source": [
    "with open(\"ciphertext.txt\", \"rb\") as file:\n",
    "    ciphertext = file.read()\n",
    "\n",
    "decrypted_plaintext = DES.DES_decrypt(ciphertext, key)\n",
    "\n",
    "with open(\"decrypted_plaintext.txt\", \"wb\") as file:\n",
    "    file.write(decrypted_plaintext)\n",
    "\n",
    "    "
   ]
  }
 ],
 "metadata": {
  "kernelspec": {
   "display_name": ".venv",
   "language": "python",
   "name": "python3"
  },
  "language_info": {
   "codemirror_mode": {
    "name": "ipython",
    "version": 3
   },
   "file_extension": ".py",
   "mimetype": "text/x-python",
   "name": "python",
   "nbconvert_exporter": "python",
   "pygments_lexer": "ipython3",
   "version": "3.13.7"
  }
 },
 "nbformat": 4,
 "nbformat_minor": 5
}
