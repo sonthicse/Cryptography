{
 "cells": [
  {
   "cell_type": "code",
   "execution_count": 2,
   "id": "bd6f5f60",
   "metadata": {},
   "outputs": [],
   "source": [
    "class RC4:\n",
    "    __slots__ = (\"S\", \"i\", \"j\")\n",
    "\n",
    "    def __init__(self) -> None:\n",
    "        self.S = [i for i in range(256)]\n",
    "        self.i = 0\n",
    "        self.j = 0\n",
    "\n",
    "    def key_scheduling(self, key: bytes) -> None:\n",
    "        self.i = 0\n",
    "        self.j = 0\n",
    "\n",
    "        for self.i in range(256):\n",
    "            self.j = (self.j + self.S[self.i] + key[self.i % len(key)]) % 256\n",
    "            self.S[self.i], self.S[self.j] = self.S[self.j], self.S[self.i]\n",
    "\n",
    "        self.i = 0\n",
    "        self.j = 0\n",
    "\n",
    "    def keystream_bytes(self) -> int:\n",
    "        self.i = (self.i + 1) % 256\n",
    "        self.j = (self.j + self.S[self.i]) % 256\n",
    "\n",
    "        self.S[self.i], self.S[self.j] = self.S[self.j], self.S[self.i]\n",
    "\n",
    "        k = self.S[(self.S[self.i] + self.S[self.j]) % 256]\n",
    "        \n",
    "        return k\n",
    "\n",
    "    def crypt(self, data: bytes, key: bytes) -> bytes:\n",
    "        self.__init__()\n",
    "        self.key_scheduling(key)\n",
    "\n",
    "        out = bytearray()\n",
    "        \n",
    "        for b in data:\n",
    "            out.append(b ^ self.keystream_bytes())\n",
    "        return bytes(out)\n"
   ]
  },
  {
   "cell_type": "code",
   "execution_count": 3,
   "id": "0d3c1bf8",
   "metadata": {},
   "outputs": [
    {
     "name": "stdout",
     "output_type": "stream",
     "text": [
      "Plaintext:  b'HELLO WORLD'\n",
      "Key:  b'12345678'\n",
      "Ciphertext:  b'\\xf3\\xb6u\\x98F\\x91\\x89\\xe8\\xa2\\x7fN'\n",
      "Decrypted:  b'HELLO WORLD'\n"
     ]
    }
   ],
   "source": [
    "with open(\"plaintext.txt\", \"rb\") as file:\n",
    "    plaintext = file.read()\n",
    "\n",
    "with open(\"key.bin\", \"rb\") as file:\n",
    "    key = file.read()\n",
    "\n",
    "print(\"Plaintext: \", plaintext)\n",
    "print(\"Key: \", key)\n",
    "\n",
    "rc4 = RC4()\n",
    "\n",
    "ciphertext = rc4.crypt(plaintext, key)\n",
    "\n",
    "with open(\"ciphertext.bin\", \"wb\") as file:\n",
    "    file.write(ciphertext)\n",
    "\n",
    "print(\"Ciphertext: \", ciphertext)\n",
    "\n",
    "decrypted = rc4.crypt(ciphertext, key)\n",
    "\n",
    "print(\"Decrypted: \", decrypted)"
   ]
  }
 ],
 "metadata": {
  "kernelspec": {
   "display_name": ".venv",
   "language": "python",
   "name": "python3"
  },
  "language_info": {
   "codemirror_mode": {
    "name": "ipython",
    "version": 3
   },
   "file_extension": ".py",
   "mimetype": "text/x-python",
   "name": "python",
   "nbconvert_exporter": "python",
   "pygments_lexer": "ipython3",
   "version": "3.13.7"
  }
 },
 "nbformat": 4,
 "nbformat_minor": 5
}
