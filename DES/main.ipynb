{
 "cells": [
  {
   "cell_type": "code",
   "execution_count": null,
   "id": "2f895749",
   "metadata": {},
   "outputs": [
    {
     "ename": "ModuleNotFoundError",
     "evalue": "No module named 'DES'",
     "output_type": "error",
     "traceback": [
      "\u001b[31m---------------------------------------------------------------------------\u001b[39m",
      "\u001b[31mModuleNotFoundError\u001b[39m                       Traceback (most recent call last)",
      "\u001b[36mCell\u001b[39m\u001b[36m \u001b[39m\u001b[32mIn[7]\u001b[39m\u001b[32m, line 1\u001b[39m\n\u001b[32m----> \u001b[39m\u001b[32m1\u001b[39m \u001b[38;5;28;01mimport\u001b[39;00m\u001b[38;5;250m \u001b[39m\u001b[34;01mDES\u001b[39;00m\u001b[34;01m.\u001b[39;00m\u001b[34;01mipynb\u001b[39;00m\n",
      "\u001b[31mModuleNotFoundError\u001b[39m: No module named 'DES'"
     ]
    }
   ],
   "source": [
    "import DES"
   ]
  },
  {
   "cell_type": "code",
   "execution_count": null,
   "id": "13fcbd9f",
   "metadata": {},
   "outputs": [
    {
     "name": "stdout",
     "output_type": "stream",
     "text": [
      "Key:  b'abcdefgh'\n",
      "Key (hex):  6162636465666768\n",
      "Plaintext:  b'HELLO WOLRD'\n",
      "Plaintext (hex):  48454c4c4f20574f4c5244\n"
     ]
    }
   ],
   "source": [
    "key = b'abcdefgh'\n",
    "plaintext = b'HELLO WOLRD'\n",
    "\n",
    "print(\"Key: \", key)\n",
    "print(\"Key (hex): \", key.hex())\n",
    "print(\"Plaintext: \", plaintext)\n",
    "print(\"Plaintext (hex): \", plaintext.hex())"
   ]
  },
  {
   "cell_type": "code",
   "execution_count": 5,
   "id": "47c84459",
   "metadata": {},
   "outputs": [
    {
     "ename": "NameError",
     "evalue": "name 'DES' is not defined",
     "output_type": "error",
     "traceback": [
      "\u001b[31m---------------------------------------------------------------------------\u001b[39m",
      "\u001b[31mNameError\u001b[39m                                 Traceback (most recent call last)",
      "\u001b[36mCell\u001b[39m\u001b[36m \u001b[39m\u001b[32mIn[5]\u001b[39m\u001b[32m, line 1\u001b[39m\n\u001b[32m----> \u001b[39m\u001b[32m1\u001b[39m ciphertext = \u001b[43mDES\u001b[49m.DES_encrypt(plaintext, key)\n\u001b[32m      2\u001b[39m \u001b[38;5;28mprint\u001b[39m(\u001b[33m\"\u001b[39m\u001b[33mCiphertext: \u001b[39m\u001b[33m\"\u001b[39m, ciphertext)\n\u001b[32m      3\u001b[39m \u001b[38;5;28mprint\u001b[39m(\u001b[33m\"\u001b[39m\u001b[33mCiphertext (hex): \u001b[39m\u001b[33m\"\u001b[39m, ciphertext.hex())\n",
      "\u001b[31mNameError\u001b[39m: name 'DES' is not defined"
     ]
    }
   ],
   "source": [
    "ciphertext = DES.DES_encrypt(plaintext, key)\n",
    "print(\"Ciphertext: \", ciphertext)\n",
    "print(\"Ciphertext (hex): \", ciphertext.hex())"
   ]
  },
  {
   "cell_type": "code",
   "execution_count": null,
   "id": "a463ec26",
   "metadata": {},
   "outputs": [],
   "source": [
    "decrypt_plaintext = DES.DES_decrypt(ciphertext, key)\n",
    "print(\"Decrypted: \", decrypt_plaintext)\n",
    "print(\"Decrypted (hex): \", decrypt_plaintext.hex())"
   ]
  },
  {
   "cell_type": "markdown",
   "id": "5a9faab6",
   "metadata": {},
   "source": [
    "# DEMO WITH FILE"
   ]
  },
  {
   "cell_type": "code",
   "execution_count": null,
   "id": "78e82c66",
   "metadata": {},
   "outputs": [],
   "source": [
    "with open(\"plaintext.txt\", \"rb\") as file:\n",
    "    plaintext = file.read()\n",
    "    \n",
    "print(\"Plaintext       : \", plaintext)\n",
    "print(\"Length Plaintext: \", len(plaintext))\n",
    "print(\"Plaintext (hex) : \", plaintext.hex())"
   ]
  },
  {
   "cell_type": "code",
   "execution_count": null,
   "id": "f23d7259",
   "metadata": {},
   "outputs": [],
   "source": [
    "with open(\"key.txt\", \"rb\") as file:\n",
    "    key = file.read()\n",
    "\n",
    "print(\"Key       : \", key)\n",
    "print(\"Length Key: \", len(key))\n",
    "print(\"Key (hex) : \", key.hex())"
   ]
  },
  {
   "cell_type": "code",
   "execution_count": null,
   "id": "e2ecf724",
   "metadata": {},
   "outputs": [],
   "source": [
    "ciphertext = DES.DES_encrypt(plaintext, key)\n",
    "\n",
    "with open(\"ciphertext.txt\", \"wb\") as file:\n",
    "    file.write(ciphertext)\n",
    "\n",
    "\n",
    "print(\"Ciphertext       : \", ciphertext)\n",
    "print(\"Length Ciphertext:\", len(ciphertext))\n",
    "print(\"Ciphertext (hex) : \", ciphertext.hex())"
   ]
  },
  {
   "cell_type": "code",
   "execution_count": null,
   "id": "37e1e848",
   "metadata": {},
   "outputs": [],
   "source": [
    "with open(\"ciphertext.txt\", \"rb\") as file:\n",
    "    ciphertext = file.read()\n",
    "\n",
    "decrypted_plaintext = DES.DES_decrypt(ciphertext, key)\n",
    "\n",
    "with open(\"decrypted_plaintext.txt\", \"wb\") as file:\n",
    "    file.write(decrypted_plaintext)\n",
    "\n",
    "print(\"Decrypted Plaintext       : \", decrypt_plaintext)\n",
    "print(\"Length Decrypted Plaintext: \", len(decrypted_plaintext))\n",
    "print(\"Decrypted Plaintext (hex) : \", decrypted_plaintext.hex())"
   ]
  }
 ],
 "metadata": {
  "kernelspec": {
   "display_name": ".venv",
   "language": "python",
   "name": "python3"
  },
  "language_info": {
   "codemirror_mode": {
    "name": "ipython",
    "version": 3
   },
   "file_extension": ".py",
   "mimetype": "text/x-python",
   "name": "python",
   "nbconvert_exporter": "python",
   "pygments_lexer": "ipython3",
   "version": "3.12.3"
  }
 },
 "nbformat": 4,
 "nbformat_minor": 5
}
